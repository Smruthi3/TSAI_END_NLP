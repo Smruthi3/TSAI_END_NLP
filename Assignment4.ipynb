{
  "nbformat": 4,
  "nbformat_minor": 0,
  "metadata": {
    "kernelspec": {
      "display_name": "Python 3",
      "language": "python",
      "name": "python3"
    },
    "language_info": {
      "codemirror_mode": {
        "name": "ipython",
        "version": 3
      },
      "file_extension": ".py",
      "mimetype": "text/x-python",
      "name": "python",
      "nbconvert_exporter": "python",
      "pygments_lexer": "ipython3",
      "version": "3.7.0"
    },
    "colab": {
      "name": "Assignment4.ipynb",
      "provenance": [],
      "collapsed_sections": [],
      "include_colab_link": true
    },
    "accelerator": "GPU"
  },
  "cells": [
    {
      "cell_type": "markdown",
      "metadata": {
        "id": "view-in-github",
        "colab_type": "text"
      },
      "source": [
        "<a href=\"https://colab.research.google.com/github/Smruthi3/TSAI_END_NLP/blob/main/Assignment4.ipynb\" target=\"_parent\"><img src=\"https://colab.research.google.com/assets/colab-badge.svg\" alt=\"Open In Colab\"/></a>"
      ]
    },
    {
      "cell_type": "code",
      "metadata": {
        "id": "U86x0GOTL9b2"
      },
      "source": [
        "import torch\n",
        "from torchtext import data\n",
        "from torchtext import datasets\n",
        "\n",
        "SEED = 1234\n",
        "\n",
        "torch.manual_seed(SEED)\n",
        "torch.backends.cudnn.deterministic = True\n",
        "\n",
        "TEXT = data.Field(tokenize = 'spacy', include_lengths = True)\n",
        "LABEL = data.LabelField(dtype = torch.float)"
      ],
      "execution_count": 1,
      "outputs": []
    },
    {
      "cell_type": "markdown",
      "metadata": {
        "id": "5q4UNHtEL9b7"
      },
      "source": [
        "We then load the IMDb dataset."
      ]
    },
    {
      "cell_type": "code",
      "metadata": {
        "id": "YBBfmAXRL9b7",
        "colab": {
          "base_uri": "https://localhost:8080/"
        },
        "outputId": "725e7a20-0abc-4e4f-c1bb-abb4d92366c6"
      },
      "source": [
        "from torchtext import datasets\n",
        "\n",
        "train_data, test_data = datasets.IMDB.splits(TEXT, LABEL)"
      ],
      "execution_count": 2,
      "outputs": [
        {
          "output_type": "stream",
          "text": [
            "\raclImdb_v1.tar.gz:   0%|          | 0.00/84.1M [00:00<?, ?B/s]"
          ],
          "name": "stderr"
        },
        {
          "output_type": "stream",
          "text": [
            "downloading aclImdb_v1.tar.gz\n"
          ],
          "name": "stdout"
        },
        {
          "output_type": "stream",
          "text": [
            "aclImdb_v1.tar.gz: 100%|██████████| 84.1M/84.1M [00:03<00:00, 23.1MB/s]\n"
          ],
          "name": "stderr"
        }
      ]
    },
    {
      "cell_type": "markdown",
      "metadata": {
        "id": "OvdUU9FUL9b-"
      },
      "source": [
        "Then create the validation set from our training set."
      ]
    },
    {
      "cell_type": "code",
      "metadata": {
        "id": "xlxvFSWNL9b-"
      },
      "source": [
        "import random\n",
        "\n",
        "train_data, valid_data = train_data.split(random_state = random.seed(SEED))"
      ],
      "execution_count": 3,
      "outputs": []
    },
    {
      "cell_type": "code",
      "metadata": {
        "colab": {
          "base_uri": "https://localhost:8080/"
        },
        "id": "hzTS6sRnFp1W",
        "outputId": "d6bdd299-798e-46db-9f5d-aee23d1f64d6"
      },
      "source": [
        "len(train_data.examples)"
      ],
      "execution_count": 4,
      "outputs": [
        {
          "output_type": "execute_result",
          "data": {
            "text/plain": [
              "17500"
            ]
          },
          "metadata": {
            "tags": []
          },
          "execution_count": 4
        }
      ]
    },
    {
      "cell_type": "code",
      "metadata": {
        "id": "uZh-lkqFG9OB"
      },
      "source": [
        "for txt in range(0,len(train_data.examples)):\n",
        "  vars(train_data.examples[txt]).get('text').reverse()\n"
      ],
      "execution_count": 5,
      "outputs": []
    },
    {
      "cell_type": "code",
      "metadata": {
        "id": "Qci7Op-ML9cC",
        "colab": {
          "base_uri": "https://localhost:8080/"
        },
        "outputId": "81a64c78-4ffc-480a-83e2-342c2d50813b"
      },
      "source": [
        "MAX_VOCAB_SIZE = 25_000\n",
        "\n",
        "TEXT.build_vocab(train_data, \n",
        "                 max_size = MAX_VOCAB_SIZE, \n",
        "                 vectors = \"glove.6B.100d\", \n",
        "                 unk_init = torch.Tensor.normal_)\n",
        "\n",
        "LABEL.build_vocab(train_data)"
      ],
      "execution_count": 6,
      "outputs": [
        {
          "output_type": "stream",
          "text": [
            ".vector_cache/glove.6B.zip: 862MB [06:31, 2.20MB/s]                          \n",
            "100%|█████████▉| 399561/400000 [00:16<00:00, 23350.24it/s]"
          ],
          "name": "stderr"
        }
      ]
    },
    {
      "cell_type": "code",
      "metadata": {
        "id": "f2mFFxzeL9cF"
      },
      "source": [
        "BATCH_SIZE = 64\n",
        "\n",
        "device = torch.device('cuda' if torch.cuda.is_available() else 'cpu')\n",
        "\n",
        "train_iterator, valid_iterator, test_iterator = data.BucketIterator.splits(\n",
        "    (train_data, valid_data, test_data), \n",
        "    batch_size = BATCH_SIZE,\n",
        "    sort_within_batch = True,\n",
        "    device = device)"
      ],
      "execution_count": 7,
      "outputs": []
    },
    {
      "cell_type": "code",
      "metadata": {
        "id": "O90V9P7MZb1R",
        "colab": {
          "base_uri": "https://localhost:8080/"
        },
        "outputId": "71383cd2-82fa-44ec-8af0-8f8a6a16e65e"
      },
      "source": [
        "device"
      ],
      "execution_count": 8,
      "outputs": [
        {
          "output_type": "execute_result",
          "data": {
            "text/plain": [
              "device(type='cuda')"
            ]
          },
          "metadata": {
            "tags": []
          },
          "execution_count": 8
        }
      ]
    },
    {
      "cell_type": "code",
      "metadata": {
        "id": "B2NsKz8HL9cI"
      },
      "source": [
        "import torch.nn as nn\n",
        "\n",
        "class RNN(nn.Module):\n",
        "    def __init__(self, vocab_size, embedding_dim, hidden_dim, output_dim, n_layers, \n",
        "                 bidirectional, dropout, pad_idx):\n",
        "        \n",
        "        super().__init__()\n",
        "        \n",
        "        self.embedding = nn.Embedding(vocab_size, embedding_dim, padding_idx = pad_idx)\n",
        "        \n",
        "        self.rnn = nn.ModuleList()\n",
        "\n",
        "        for i in range(3):\n",
        "          if(i==0):\n",
        "            input_dim = embedding_dim\n",
        "          else:\n",
        "            input_dim= hidden_dim\n",
        "          \n",
        "          self.rnn.append(nn.LSTM(input_dim, \n",
        "                            hidden_dim, \n",
        "                            num_layers=n_layers, \n",
        "                            bidirectional=bidirectional, \n",
        "                            dropout=dropout))\n",
        "        \n",
        "        self.fc = nn.Linear(hidden_dim * 2 , output_dim)\n",
        "        \n",
        "        self.dropout = nn.Dropout(dropout)\n",
        "        \n",
        "    def forward(self, text, text_lengths):\n",
        "        \n",
        "        #text = [sent len, batch size]\n",
        "        \n",
        "        embedded = self.dropout(self.embedding(text))\n",
        "        \n",
        "        #packed_output=packed_embedded\n",
        "\n",
        "        for i,layer in enumerate(self.rnn):\n",
        "          if(i==0):\n",
        "            packed_embedded = nn.utils.rnn.pack_padded_sequence(embedded, text_lengths.cpu().numpy())\n",
        "          else:\n",
        "            packed_embedded=packed_output\n",
        "          \n",
        "          packed_output, (hidden, cell) = layer(packed_embedded)\n",
        "\n",
        "        hidden = self.dropout(torch.cat((hidden[-2,:,:], hidden[-1,:,:]), dim = 1))\n",
        "\n",
        "            \n",
        "        return self.fc(hidden)"
      ],
      "execution_count": 109,
      "outputs": []
    },
    {
      "cell_type": "code",
      "metadata": {
        "id": "nuKntuKhL9cL"
      },
      "source": [
        "INPUT_DIM = len(TEXT.vocab)\n",
        "EMBEDDING_DIM = 100\n",
        "HIDDEN_DIM = 256\n",
        "OUTPUT_DIM = 1\n",
        "N_LAYERS = 2\n",
        "BIDIRECTIONAL = False\n",
        "DROPOUT = 0.2\n",
        "PAD_IDX = TEXT.vocab.stoi[TEXT.pad_token]\n",
        "\n",
        "model = RNN(INPUT_DIM, \n",
        "            EMBEDDING_DIM, \n",
        "            HIDDEN_DIM, \n",
        "            OUTPUT_DIM, \n",
        "            N_LAYERS, \n",
        "            BIDIRECTIONAL, \n",
        "            DROPOUT, \n",
        "            PAD_IDX)"
      ],
      "execution_count": 110,
      "outputs": []
    },
    {
      "cell_type": "code",
      "metadata": {
        "colab": {
          "base_uri": "https://localhost:8080/"
        },
        "id": "zFEjAcQ6S0F0",
        "outputId": "612a9d67-4600-482c-e205-ff44f65aac8f"
      },
      "source": [
        "print(model)"
      ],
      "execution_count": 111,
      "outputs": [
        {
          "output_type": "stream",
          "text": [
            "RNN(\n",
            "  (embedding): Embedding(25002, 100, padding_idx=1)\n",
            "  (rnn): ModuleList(\n",
            "    (0): LSTM(100, 256, num_layers=2, dropout=0.2)\n",
            "    (1): LSTM(256, 256, num_layers=2, dropout=0.2)\n",
            "    (2): LSTM(256, 256, num_layers=2, dropout=0.2)\n",
            "  )\n",
            "  (fc): Linear(in_features=512, out_features=1, bias=True)\n",
            "  (dropout): Dropout(p=0.2, inplace=False)\n",
            ")\n"
          ],
          "name": "stdout"
        }
      ]
    },
    {
      "cell_type": "markdown",
      "metadata": {
        "id": "B9MbfBk8L9cN"
      },
      "source": [
        "We'll print out the number of parameters in our model. \n",
        "\n",
        "Notice how we have almost twice as many parameters as before!"
      ]
    },
    {
      "cell_type": "code",
      "metadata": {
        "id": "-5RgITsYL9cO",
        "colab": {
          "base_uri": "https://localhost:8080/"
        },
        "outputId": "df11ccdc-d37d-43f3-c4be-3d1d62cf9960"
      },
      "source": [
        "def count_parameters(model):\n",
        "    return sum(p.numel() for p in model.parameters() if p.requires_grad)\n",
        "\n",
        "print(f'The model has {count_parameters(model):,} trainable parameters')"
      ],
      "execution_count": 112,
      "outputs": [
        {
          "output_type": "stream",
          "text": [
            "The model has 5,498,985 trainable parameters\n"
          ],
          "name": "stdout"
        }
      ]
    },
    {
      "cell_type": "code",
      "metadata": {
        "id": "m7GxqOV2L9cR",
        "colab": {
          "base_uri": "https://localhost:8080/"
        },
        "outputId": "774872b8-2fdf-43e6-bde7-efc21cb307f8"
      },
      "source": [
        "pretrained_embeddings = TEXT.vocab.vectors\n",
        "\n",
        "print(pretrained_embeddings.shape)"
      ],
      "execution_count": 113,
      "outputs": [
        {
          "output_type": "stream",
          "text": [
            "torch.Size([25002, 100])\n"
          ],
          "name": "stdout"
        }
      ]
    },
    {
      "cell_type": "code",
      "metadata": {
        "id": "dMwmtayqL9cU",
        "colab": {
          "base_uri": "https://localhost:8080/"
        },
        "outputId": "2b09959c-59d0-4831-cd7e-8705919f7a9d"
      },
      "source": [
        "model.embedding.weight.data.copy_(pretrained_embeddings)"
      ],
      "execution_count": 114,
      "outputs": [
        {
          "output_type": "execute_result",
          "data": {
            "text/plain": [
              "tensor([[-0.1117, -0.4966,  0.1631,  ...,  1.2647, -0.2753, -0.1325],\n",
              "        [-0.8555, -0.7208,  1.3755,  ...,  0.0825, -1.1314,  0.3997],\n",
              "        [-0.0382, -0.2449,  0.7281,  ..., -0.1459,  0.8278,  0.2706],\n",
              "        ...,\n",
              "        [-0.3970,  0.4024,  1.0612,  ..., -0.0136, -0.3363,  0.6442],\n",
              "        [-0.5197,  1.0395,  0.2092,  ..., -0.8857, -0.2294,  0.1244],\n",
              "        [ 0.0057, -0.0707, -0.0804,  ..., -0.3292, -0.0130,  0.0716]])"
            ]
          },
          "metadata": {
            "tags": []
          },
          "execution_count": 114
        }
      ]
    },
    {
      "cell_type": "code",
      "metadata": {
        "id": "VbwGVW2CL9cX",
        "colab": {
          "base_uri": "https://localhost:8080/"
        },
        "outputId": "9e9e3945-9810-4646-d5a3-eb5a2bedd27e"
      },
      "source": [
        "UNK_IDX = TEXT.vocab.stoi[TEXT.unk_token]\n",
        "\n",
        "model.embedding.weight.data[UNK_IDX] = torch.zeros(EMBEDDING_DIM)\n",
        "model.embedding.weight.data[PAD_IDX] = torch.zeros(EMBEDDING_DIM)\n",
        "\n",
        "print(model.embedding.weight.data)"
      ],
      "execution_count": 115,
      "outputs": [
        {
          "output_type": "stream",
          "text": [
            "tensor([[ 0.0000,  0.0000,  0.0000,  ...,  0.0000,  0.0000,  0.0000],\n",
            "        [ 0.0000,  0.0000,  0.0000,  ...,  0.0000,  0.0000,  0.0000],\n",
            "        [-0.0382, -0.2449,  0.7281,  ..., -0.1459,  0.8278,  0.2706],\n",
            "        ...,\n",
            "        [-0.3970,  0.4024,  1.0612,  ..., -0.0136, -0.3363,  0.6442],\n",
            "        [-0.5197,  1.0395,  0.2092,  ..., -0.8857, -0.2294,  0.1244],\n",
            "        [ 0.0057, -0.0707, -0.0804,  ..., -0.3292, -0.0130,  0.0716]])\n"
          ],
          "name": "stdout"
        }
      ]
    },
    {
      "cell_type": "markdown",
      "metadata": {
        "id": "YlKA2G_1L9ca"
      },
      "source": [
        "## Train the Model"
      ]
    },
    {
      "cell_type": "code",
      "metadata": {
        "id": "2sp4DJrdL9cb"
      },
      "source": [
        "import torch.optim as optim\n",
        "\n",
        "optimizer = optim.Adam(model.parameters())"
      ],
      "execution_count": 116,
      "outputs": []
    },
    {
      "cell_type": "code",
      "metadata": {
        "id": "9KUaq0i_L9ce"
      },
      "source": [
        "criterion = nn.BCEWithLogitsLoss()\n",
        "\n",
        "model = model.to(device)\n",
        "criterion = criterion.to(device)"
      ],
      "execution_count": 117,
      "outputs": []
    },
    {
      "cell_type": "code",
      "metadata": {
        "id": "4MovT4PYL9ch"
      },
      "source": [
        "def binary_accuracy(preds, y):\n",
        "    \"\"\"\n",
        "    Returns accuracy per batch, i.e. if you get 8/10 right, this returns 0.8, NOT 8\n",
        "    \"\"\"\n",
        "\n",
        "    #round predictions to the closest integer\n",
        "    rounded_preds = torch.round(torch.sigmoid(preds))\n",
        "    correct = (rounded_preds == y).float() #convert into float for division \n",
        "    acc = correct.sum() / len(correct)\n",
        "    return acc"
      ],
      "execution_count": 118,
      "outputs": []
    },
    {
      "cell_type": "code",
      "metadata": {
        "id": "VND0Pa9tL9cn"
      },
      "source": [
        "def train(model, iterator, optimizer, criterion):\n",
        "    \n",
        "    epoch_loss = 0\n",
        "    epoch_acc = 0\n",
        "    \n",
        "    model.train()\n",
        "    \n",
        "    for batch in iterator:\n",
        "        \n",
        "        optimizer.zero_grad()\n",
        "        \n",
        "        text, text_lengths = batch.text\n",
        "        \n",
        "        predictions = model(text, text_lengths).squeeze(1)\n",
        "        \n",
        "        loss = criterion(predictions, batch.label)\n",
        "        \n",
        "        acc = binary_accuracy(predictions, batch.label)\n",
        "        \n",
        "        loss.backward()\n",
        "        \n",
        "        optimizer.step()\n",
        "        \n",
        "        epoch_loss += loss.item()\n",
        "        epoch_acc += acc.item()\n",
        "        \n",
        "    return epoch_loss / len(iterator), epoch_acc / len(iterator)"
      ],
      "execution_count": 119,
      "outputs": []
    },
    {
      "cell_type": "code",
      "metadata": {
        "id": "CKPIZ9XCL9cr"
      },
      "source": [
        "def evaluate(model, iterator, criterion):\n",
        "    \n",
        "    epoch_loss = 0\n",
        "    epoch_acc = 0\n",
        "    \n",
        "    model.eval()\n",
        "    \n",
        "    with torch.no_grad():\n",
        "    \n",
        "        for batch in iterator:\n",
        "\n",
        "            text, text_lengths = batch.text\n",
        "            \n",
        "            predictions = model(text, text_lengths).squeeze(1)\n",
        "            \n",
        "            loss = criterion(predictions, batch.label)\n",
        "            \n",
        "            acc = binary_accuracy(predictions, batch.label)\n",
        "\n",
        "            epoch_loss += loss.item()\n",
        "            epoch_acc += acc.item()\n",
        "        \n",
        "    return epoch_loss / len(iterator), epoch_acc / len(iterator)"
      ],
      "execution_count": 120,
      "outputs": []
    },
    {
      "cell_type": "code",
      "metadata": {
        "id": "3n47wRNCL9ct"
      },
      "source": [
        "import time\n",
        "\n",
        "def epoch_time(start_time, end_time):\n",
        "    elapsed_time = end_time - start_time\n",
        "    elapsed_mins = int(elapsed_time / 60)\n",
        "    elapsed_secs = int(elapsed_time - (elapsed_mins * 60))\n",
        "    return elapsed_mins, elapsed_secs"
      ],
      "execution_count": 121,
      "outputs": []
    },
    {
      "cell_type": "code",
      "metadata": {
        "id": "Zl7BmCtVL9cw",
        "colab": {
          "base_uri": "https://localhost:8080/"
        },
        "outputId": "e1693f98-ba60-4fa7-f52f-423957ea890b"
      },
      "source": [
        "\n",
        "N_EPOCHS = 30\n",
        "\n",
        "best_valid_loss = float('inf')\n",
        "\n",
        "for epoch in range(N_EPOCHS):\n",
        "\n",
        "    start_time = time.time()\n",
        "    \n",
        "    train_loss, train_acc = train(model, train_iterator, optimizer, criterion)\n",
        "    valid_loss, valid_acc = evaluate(model, valid_iterator, criterion)\n",
        "    \n",
        "    end_time = time.time()\n",
        "\n",
        "    epoch_mins, epoch_secs = epoch_time(start_time, end_time)\n",
        "    \n",
        "    if valid_loss < best_valid_loss:\n",
        "        best_valid_loss = valid_loss\n",
        "        torch.save(model.state_dict(), 'tut2-model.pt')\n",
        "    \n",
        "    print(f'Epoch: {epoch+1:02} | Epoch Time: {epoch_mins}m {epoch_secs}s')\n",
        "    print(f'\\tTrain Loss: {train_loss:.3f} | Train Acc: {train_acc*100:.2f}%')\n",
        "    print(f'\\t Val. Loss: {valid_loss:.3f} |  Val. Acc: {valid_acc*100:.2f}%')"
      ],
      "execution_count": null,
      "outputs": [
        {
          "output_type": "stream",
          "text": [
            "Epoch: 01 | Epoch Time: 0m 55s\n",
            "\tTrain Loss: 0.673 | Train Acc: 60.10%\n",
            "\t Val. Loss: 0.676 |  Val. Acc: 59.48%\n",
            "Epoch: 02 | Epoch Time: 0m 57s\n",
            "\tTrain Loss: 0.672 | Train Acc: 60.37%\n",
            "\t Val. Loss: 0.676 |  Val. Acc: 59.49%\n",
            "Epoch: 03 | Epoch Time: 0m 56s\n",
            "\tTrain Loss: 0.672 | Train Acc: 60.33%\n",
            "\t Val. Loss: 0.675 |  Val. Acc: 59.45%\n",
            "Epoch: 04 | Epoch Time: 0m 57s\n",
            "\tTrain Loss: 0.672 | Train Acc: 60.43%\n",
            "\t Val. Loss: 0.675 |  Val. Acc: 59.55%\n",
            "Epoch: 05 | Epoch Time: 0m 56s\n",
            "\tTrain Loss: 0.672 | Train Acc: 60.43%\n",
            "\t Val. Loss: 0.676 |  Val. Acc: 59.51%\n",
            "Epoch: 06 | Epoch Time: 0m 57s\n",
            "\tTrain Loss: 0.671 | Train Acc: 60.60%\n",
            "\t Val. Loss: 0.679 |  Val. Acc: 58.26%\n",
            "Epoch: 07 | Epoch Time: 0m 56s\n",
            "\tTrain Loss: 0.670 | Train Acc: 60.81%\n",
            "\t Val. Loss: 0.679 |  Val. Acc: 58.58%\n",
            "Epoch: 08 | Epoch Time: 0m 56s\n",
            "\tTrain Loss: 0.676 | Train Acc: 57.67%\n",
            "\t Val. Loss: 0.689 |  Val. Acc: 55.66%\n",
            "Epoch: 09 | Epoch Time: 0m 56s\n",
            "\tTrain Loss: 0.678 | Train Acc: 58.51%\n",
            "\t Val. Loss: 0.684 |  Val. Acc: 56.87%\n",
            "Epoch: 10 | Epoch Time: 0m 56s\n",
            "\tTrain Loss: 0.677 | Train Acc: 59.11%\n",
            "\t Val. Loss: 0.686 |  Val. Acc: 57.23%\n",
            "Epoch: 11 | Epoch Time: 0m 56s\n",
            "\tTrain Loss: 0.683 | Train Acc: 55.13%\n",
            "\t Val. Loss: 0.685 |  Val. Acc: 54.71%\n",
            "Epoch: 12 | Epoch Time: 0m 56s\n",
            "\tTrain Loss: 0.687 | Train Acc: 52.40%\n",
            "\t Val. Loss: 0.687 |  Val. Acc: 54.67%\n",
            "Epoch: 13 | Epoch Time: 0m 56s\n",
            "\tTrain Loss: 0.688 | Train Acc: 52.63%\n",
            "\t Val. Loss: 0.686 |  Val. Acc: 54.67%\n",
            "Epoch: 14 | Epoch Time: 0m 56s\n",
            "\tTrain Loss: 0.688 | Train Acc: 52.33%\n",
            "\t Val. Loss: 0.687 |  Val. Acc: 54.67%\n",
            "Epoch: 15 | Epoch Time: 0m 56s\n",
            "\tTrain Loss: 0.687 | Train Acc: 52.85%\n",
            "\t Val. Loss: 0.688 |  Val. Acc: 54.67%\n",
            "Epoch: 16 | Epoch Time: 0m 56s\n",
            "\tTrain Loss: 0.686 | Train Acc: 53.00%\n",
            "\t Val. Loss: 0.688 |  Val. Acc: 54.91%\n",
            "Epoch: 17 | Epoch Time: 0m 56s\n",
            "\tTrain Loss: 0.686 | Train Acc: 53.30%\n",
            "\t Val. Loss: 0.688 |  Val. Acc: 54.93%\n",
            "Epoch: 18 | Epoch Time: 0m 56s\n",
            "\tTrain Loss: 0.687 | Train Acc: 53.11%\n",
            "\t Val. Loss: 0.686 |  Val. Acc: 54.91%\n",
            "Epoch: 19 | Epoch Time: 0m 56s\n",
            "\tTrain Loss: 0.687 | Train Acc: 53.11%\n",
            "\t Val. Loss: 0.687 |  Val. Acc: 55.21%\n",
            "Epoch: 20 | Epoch Time: 0m 56s\n",
            "\tTrain Loss: 0.682 | Train Acc: 55.17%\n",
            "\t Val. Loss: 0.684 |  Val. Acc: 55.51%\n",
            "Epoch: 21 | Epoch Time: 0m 55s\n",
            "\tTrain Loss: 0.689 | Train Acc: 52.52%\n",
            "\t Val. Loss: 0.694 |  Val. Acc: 51.79%\n",
            "Epoch: 22 | Epoch Time: 0m 56s\n",
            "\tTrain Loss: 0.694 | Train Acc: 50.03%\n",
            "\t Val. Loss: 0.691 |  Val. Acc: 51.79%\n",
            "Epoch: 23 | Epoch Time: 0m 56s\n",
            "\tTrain Loss: 0.693 | Train Acc: 49.93%\n",
            "\t Val. Loss: 0.691 |  Val. Acc: 51.79%\n",
            "Epoch: 24 | Epoch Time: 0m 56s\n",
            "\tTrain Loss: 0.693 | Train Acc: 50.35%\n",
            "\t Val. Loss: 0.691 |  Val. Acc: 51.79%\n",
            "Epoch: 25 | Epoch Time: 0m 55s\n",
            "\tTrain Loss: 0.693 | Train Acc: 49.92%\n",
            "\t Val. Loss: 0.691 |  Val. Acc: 51.79%\n",
            "Epoch: 26 | Epoch Time: 0m 56s\n",
            "\tTrain Loss: 0.693 | Train Acc: 49.89%\n",
            "\t Val. Loss: 0.693 |  Val. Acc: 51.79%\n",
            "Epoch: 27 | Epoch Time: 0m 56s\n",
            "\tTrain Loss: 0.693 | Train Acc: 49.91%\n",
            "\t Val. Loss: 0.694 |  Val. Acc: 49.15%\n",
            "Epoch: 28 | Epoch Time: 0m 56s\n",
            "\tTrain Loss: 0.693 | Train Acc: 49.95%\n",
            "\t Val. Loss: 0.691 |  Val. Acc: 51.77%\n"
          ],
          "name": "stdout"
        }
      ]
    },
    {
      "cell_type": "code",
      "metadata": {
        "id": "cpKF3n8aL9cz",
        "colab": {
          "base_uri": "https://localhost:8080/"
        },
        "outputId": "ce3a230b-ad89-4f05-c6a5-1fc35af8ff9b"
      },
      "source": [
        "model.load_state_dict(torch.load('tut2-model.pt'))\n",
        "\n",
        "test_loss, test_acc = evaluate(model, test_iterator, criterion)\n",
        "\n",
        "print(f'Test Loss: {test_loss:.3f} | Test Acc: {test_acc*100:.2f}%')"
      ],
      "execution_count": 123,
      "outputs": [
        {
          "output_type": "stream",
          "text": [
            "Test Loss: 0.677 | Test Acc: 59.04%\n"
          ],
          "name": "stdout"
        }
      ]
    },
    {
      "cell_type": "code",
      "metadata": {
        "id": "soHlmPLjL9c2"
      },
      "source": [
        "import spacy\n",
        "nlp = spacy.load('en')\n",
        "\n",
        "def predict_sentiment(model, sentence):\n",
        "    model.eval()\n",
        "    tokenized = [tok.text for tok in nlp.tokenizer(sentence)]\n",
        "    indexed = [TEXT.vocab.stoi[t] for t in tokenized]\n",
        "    length = [len(indexed)]\n",
        "    tensor = torch.LongTensor(indexed).to(device)\n",
        "    tensor = tensor.unsqueeze(1)\n",
        "    length_tensor = torch.LongTensor(length)\n",
        "    prediction = torch.sigmoid(model(tensor, length_tensor))\n",
        "    return prediction.item()"
      ],
      "execution_count": 124,
      "outputs": []
    },
    {
      "cell_type": "code",
      "metadata": {
        "id": "4JDmICjXL9c5",
        "colab": {
          "base_uri": "https://localhost:8080/"
        },
        "outputId": "250dad3c-7bb3-489d-c566-a6b3653c362b"
      },
      "source": [
        "predict_sentiment(model, \"This film is terrible\")"
      ],
      "execution_count": 125,
      "outputs": [
        {
          "output_type": "execute_result",
          "data": {
            "text/plain": [
              "0.5011833906173706"
            ]
          },
          "metadata": {
            "tags": []
          },
          "execution_count": 125
        }
      ]
    },
    {
      "cell_type": "code",
      "metadata": {
        "id": "Ht-OqrI1L9c8",
        "colab": {
          "base_uri": "https://localhost:8080/"
        },
        "outputId": "fbb9778e-e708-4025-ebaa-4efd3f80e90f"
      },
      "source": [
        "predict_sentiment(model, \"This film is fantastic\")"
      ],
      "execution_count": 126,
      "outputs": [
        {
          "output_type": "execute_result",
          "data": {
            "text/plain": [
              "0.5178212523460388"
            ]
          },
          "metadata": {
            "tags": []
          },
          "execution_count": 126
        }
      ]
    },
    {
      "cell_type": "code",
      "metadata": {
        "id": "Xy2TQ1uN8Rta"
      },
      "source": [
        ""
      ],
      "execution_count": null,
      "outputs": []
    },
    {
      "cell_type": "code",
      "metadata": {
        "id": "TGhkDTNxG3xp"
      },
      "source": [
        ""
      ],
      "execution_count": null,
      "outputs": []
    }
  ]
}